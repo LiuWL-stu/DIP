{
  "nbformat": 4,
  "nbformat_minor": 0,
  "metadata": {
    "colab": {
      "provenance": [],
      "authorship_tag": "ABX9TyP/u05weIu4vNsIEjomVaO4",
      "include_colab_link": true
    },
    "kernelspec": {
      "name": "python3",
      "display_name": "Python 3"
    },
    "language_info": {
      "name": "python"
    }
  },
  "cells": [
    {
      "cell_type": "markdown",
      "metadata": {
        "id": "view-in-github",
        "colab_type": "text"
      },
      "source": [
        "<a href=\"https://colab.research.google.com/github/LiuWL-stu/DIP/blob/main/SEIR.ipynb\" target=\"_parent\"><img src=\"https://colab.research.google.com/assets/colab-badge.svg\" alt=\"Open In Colab\"/></a>"
      ]
    },
    {
      "cell_type": "code",
      "source": [
        "import numpy as np\n",
        "import math\n",
        "import numpy as np\n",
        "from sklearn.metrics import mean_squared_error, mean_absolute_error, r2_score\n",
        "from scipy.optimize import minimize\n",
        "import matplotlib.pyplot as plt\n"
      ],
      "metadata": {
        "id": "oPNad3i7gnSM"
      },
      "execution_count": 224,
      "outputs": []
    },
    {
      "cell_type": "code",
      "execution_count": 85,
      "metadata": {
        "id": "Uwp03qZ3ghaS"
      },
      "outputs": [],
      "source": [
        "# === 数据准备 ===\n",
        "read = np.array([8048951, 577559, 223872, 189400])\n",
        "fw = np.array([1145, 375, 23, 62])\n",
        "com = np.array([1097, 294, 18, 61])\n",
        "like = np.array([16689, 6771, 78, 822])\n",
        "I_raw = fw + com + like\n",
        "R_raw = read - I_raw\n",
        "\n",
        "# SEIR的量化\n",
        "E_obs = read - I_raw\n",
        "S_obs = 10000000 - np.cumsum(read)\n",
        "I_obs = I_raw\n",
        "R_obs = np.cumsum(R_raw)\n",
        "\n",
        "# NorTP 和 TI\n",
        "search_volume = np.array([150000, 80000, 20000, 10000])\n",
        "discussion_volume = fw + com\n",
        "spread_volume = read\n",
        "interaction_volume = I_raw\n",
        "raw_interaction_rate = interaction_volume / (spread_volume + 1e-8)\n",
        "interaction_rate = 1 + 0.2 * (raw_interaction_rate - raw_interaction_rate.min()) / (raw_interaction_rate.max() - raw_interaction_rate.min() + 1e-8)\n",
        "weibo_heat = (search_volume + discussion_volume + spread_volume) * interaction_rate\n",
        "NorTP = (weibo_heat - np.min(weibo_heat)) / (np.max(weibo_heat) - np.min(weibo_heat) + 1e-8)\n",
        "TI = np.array([0.0785] * 4)\n",
        "\n",
        "# === STEP 2: 修改后的损失函数，使用 alpha * NorTP ===\n",
        "def loss_alphaTP(params):\n",
        "    alpha, beta, gamma = params\n",
        "    loss_val = 0\n",
        "    for t in range(len(S_obs) - 1):\n",
        "        tp = alpha * NorTP[t]\n",
        "        ti = TI[t]\n",
        "\n",
        "\n",
        "        dS = -alpha * ti * S_obs[t] * E_obs[t]\n",
        "        dE = alpha * ti * S_obs[t] * E_obs[t] - beta * E_obs[t] - gamma * E_obs[t]\n",
        "\n",
        "        dI = gamma * E_obs[t] - tp * I_obs[t]\n",
        "        dR = beta * E_obs[t] + tp * I_obs[t]\n",
        "\n",
        "        pred_S = S_obs[t] + dS\n",
        "        pred_E = E_obs[t] + dE\n",
        "        pred_I = I_obs[t] + dI\n",
        "        pred_R = R_obs[t] + dR\n",
        "\n",
        "        loss_val += (S_obs[t + 1] - pred_S) ** 2\n",
        "        loss_val += (E_obs[t + 1] - pred_E) ** 2\n",
        "        loss_val += (I_obs[t + 1] - pred_I) ** 2\n",
        "        loss_val += (R_obs[t + 1] - pred_R) ** 2\n",
        "\n",
        "\n",
        "    return loss_val\n",
        "\n",
        "# 拟合参数\n",
        "def fit_model_alphaTP():\n",
        "    result = minimize(loss_alphaTP, x0=[0.01, 0.3, 0.2], bounds=[(0, 1), (0, 1), (0, 1)])\n",
        "    return result.x\n",
        "\n",
        "# === 拟合并预测 ===\n",
        "alpha_est, beta_est, gamma_est = fit_model_alphaTP()\n",
        "E_real = E_obs\n",
        "S_real = S_obs\n",
        "TI_real = TI\n",
        "F_real = np.array([1.0] * len(E_real))\n",
        "TP_real = alpha_est * NorTP\n",
        "\n",
        "E_pred = [E_real[0]]\n",
        "for t in range(len(E_real) - 1):\n",
        "    E_t = E_pred[t]\n",
        "    S_t = S_real[t]\n",
        "    TI_t = TI_real[t]\n",
        "    F_t = F_real[t]\n",
        "    dE = alpha_est * TI_t * S_t * E_t - beta_est * TI_t * E_t - gamma_est * F_t * E_t\n",
        "    E_pred.append(E_t + dE)\n",
        "E_pred = np.array(E_pred)\n",
        "\n",
        "# 误差指标\n",
        "mse = mean_squared_error(E_real, E_pred)\n",
        "mae = mean_absolute_error(E_real, E_pred)\n",
        "r2 = r2_score(E_real, E_pred)"
      ]
    },
    {
      "cell_type": "code",
      "source": [
        "# === 数据准备 ===\n",
        "read = np.array([8048951, 577559, 223872, 189400])\n",
        "fw = np.array([1145, 375, 23, 62])\n",
        "com = np.array([1097, 294, 18, 61])\n",
        "like = np.array([16689, 6771, 78, 822])\n",
        "I_raw = fw + com + like\n",
        "R_raw = read - I_raw\n",
        "\n",
        "# SEIR的量化\n",
        "E_obs = read - I_raw\n",
        "S_obs = 10000000 - np.cumsum(read)\n",
        "I_obs = I_raw\n",
        "R_obs = np.cumsum(R_raw)\n",
        "\n",
        "# NorTP 和 TI\n",
        "search_volume = np.array([150000, 80000, 20000, 10000])\n",
        "discussion_volume = fw + com\n",
        "spread_volume = read\n",
        "interaction_volume = I_raw\n",
        "raw_interaction_rate = interaction_volume / (spread_volume + 1e-8)\n",
        "interaction_rate = 1 + 0.2 * (raw_interaction_rate - raw_interaction_rate.min()) / (raw_interaction_rate.max() - raw_interaction_rate.min() + 1e-8)\n",
        "weibo_heat = (search_volume + discussion_volume + spread_volume) * interaction_rate\n",
        "NorTP = (weibo_heat - np.min(weibo_heat)) / (np.max(weibo_heat) - np.min(weibo_heat) + 1e-8)\n",
        "TI = np.array([0.0785] * 4)\n"
      ],
      "metadata": {
        "id": "glWIhhjBsOsA"
      },
      "execution_count": 225,
      "outputs": []
    },
    {
      "cell_type": "code",
      "source": [
        "\n",
        "# 设定暴降事件的时间点 t_shock 和暴降的幅度\n",
        "t_shock = 0  # 假设暴降发生在第 2 个时间点\n",
        "shock_magnitude = 1  # 暴降幅度，例如减少暴露者数的 50%\n",
        "\n",
        "# 定义冲击函数\n",
        "def shock_effect(t, E_t):\n",
        "    if t == t_shock:\n",
        "        return E_t * shock_magnitude  # 在 t_shock 时进行暴降\n",
        "    return E_t  # 否则不变化\n",
        "\n",
        "# === STEP 2: 修改后的损失函数，使用 alpha * NorTP ===\n",
        "def loss_alphaTP(params):\n",
        "    alpha, beta, gamma,FI = params\n",
        "    a = 1 / (1 + np.exp(-alpha))\n",
        "    loss_val = 0\n",
        "    for t in range(len(S_obs) - 1):\n",
        "        tp = alpha * NorTP[t]\n",
        "        ti = TI[t]\n",
        "\n",
        "\n",
        "        dS = -alpha * ti * S_obs[t] * E_obs[t]\n",
        "        dE = alpha * S_obs[t] * E_obs[t] - ti*beta * E_obs[t] - FI*gamma * E_obs[t]\n",
        "\n",
        "        dI = FI*gamma * E_obs[t] - tp * I_obs[t]\n",
        "        dR = beta *ti* E_obs[t] + tp * I_obs[t]\n",
        "\n",
        "        pred_S = S_obs[t] + dS\n",
        "        pred_E = E_obs[t] + dE\n",
        "        pred_I = I_obs[t] + dI\n",
        "        pred_R = R_obs[t] + dR\n",
        "\n",
        "        loss_val += (S_obs[t + 1] - pred_S) ** 2\n",
        "        loss_val += (E_obs[t + 1] - pred_E) ** 2\n",
        "        loss_val += (I_obs[t + 1] - pred_I) ** 2\n",
        "        loss_val += (R_obs[t + 1] - pred_R) ** 2\n",
        "\n",
        "\n",
        "    return loss_val\n",
        "\n",
        "# 拟合参数\n",
        "def fit_model_alphaTP():\n",
        "    result = minimize(loss_alphaTP, x0=[0.01, 0.3, 0.2,1], bounds=[(None,None), (0, 1), (0, 1),(None,None)])\n",
        "    return result.x\n",
        "\n"
      ],
      "metadata": {
        "id": "LBBd8QVesJ40"
      },
      "execution_count": 233,
      "outputs": []
    },
    {
      "cell_type": "code",
      "source": [
        "# === 拟合并预测 ===\n",
        "alpha_est, beta_est, gamma_est,FI = fit_model_alphaTP()\n",
        "E_real = E_obs\n",
        "S_real = S_obs\n",
        "TI_real = TI\n",
        "#F_real = np.array([1.0] * len(E_real))\n",
        "TP_real = alpha_est * NorTP\n",
        "\n",
        "E_pred = [E_real[0]]\n",
        "for t in range(len(E_real) - 1):\n",
        "    E_t = E_pred[t]\n",
        "    S_t = S_real[t]\n",
        "    TI_t = TI_real[t]\n",
        "    #F_t = F_real[t]\n",
        "    #FI=F_real[t]\n",
        "    #dE = alpha_est * S_t * E_t - beta_est * TI_t * E_t - gamma_est * F_t * E_t*FI\n",
        "    dE = alpha_est * S_t * E_t - beta_est * TI_t * E_t - gamma_est * F_t * E_t*0.5\n",
        "     # 应用暴降影响\n",
        "    E_t_new = E_t + dE\n",
        "    E_t_new = shock_effect(t, E_t_new)  # 调用冲击函数\n",
        "    E_pred.append(E_t_new)\n",
        "    #E_pred.append(E_t + dE)\n",
        "E_pred = np.array(E_pred)\n",
        "\n",
        "\n",
        "\n",
        "# 误差指标\n",
        "mse = mean_squared_error(E_real, E_pred)\n",
        "mae = mean_absolute_error(E_real, E_pred)\n",
        "r2 = r2_score(E_real, E_pred)"
      ],
      "metadata": {
        "colab": {
          "base_uri": "https://localhost:8080/"
        },
        "id": "yj_J4uJ8sfMZ",
        "outputId": "9ebcfb2e-83b8-4c71-8da0-1cb5d703f949"
      },
      "execution_count": 261,
      "outputs": [
        {
          "output_type": "stream",
          "name": "stderr",
          "text": [
            "<ipython-input-233-9f52f85982de>:14: RuntimeWarning: overflow encountered in exp\n",
            "  a = 1 / (1 + np.exp(-alpha))\n"
          ]
        }
      ]
    },
    {
      "cell_type": "code",
      "source": [
        "# 可视化\n",
        "plt.figure(figsize=(10, 6))\n",
        "plt.plot(E_obs, label=' E(t)', marker='o')\n",
        "plt.plot(E_pred, label='E_hat(t)', linestyle='--', marker='x')\n",
        "plt.title(\"E(t)  vs. F_t,α·NorTP\")\n",
        "plt.xlabel(\"time\")\n",
        "plt.ylabel(\"E(t) \")\n",
        "plt.legend()\n",
        "plt.grid(True)\n",
        "plt.tight_layout()\n",
        "plt.show()\n",
        "\n",
        "(alpha_est, beta_est, gamma_est), (mse, mae, r2)"
      ],
      "metadata": {
        "colab": {
          "base_uri": "https://localhost:8080/",
          "height": 644
        },
        "id": "vvbvw_begtd_",
        "outputId": "3b6d4594-9411-451b-98ff-bd5b4a599bad"
      },
      "execution_count": 262,
      "outputs": [
        {
          "output_type": "display_data",
          "data": {
            "text/plain": [
              "<Figure size 1000x600 with 1 Axes>"
            ],
            "image/png": "[encoded data removed]"
          },
          "metadata": {}
        },
        {
          "output_type": "execute_result",
          "data": {
            "text/plain": [
              "((np.float64(-3.608065822779949e-07), np.float64(0.3), np.float64(0.2)),\n",
              " (189914842778.81564, 293499.8046341592, 0.9829620213328917))"
            ]
          },
          "metadata": {},
          "execution_count": 262
        }
      ]
    },
    {
      "cell_type": "code",
      "source": [
        "a = 1 / (1 + np.exp(-alpha_est))\n",
        "print(a)"
      ],
      "metadata": {
        "colab": {
          "base_uri": "https://localhost:8080/"
        },
        "id": "lu88mPgZTyfG",
        "outputId": "9980f009-b960-410b-d325-da94e5fafbba"
      },
      "execution_count": 263,
      "outputs": [
        {
          "output_type": "stream",
          "name": "stdout",
          "text": [
            "0.49999990979835435\n"
          ]
        }
      ]
    },
    {
      "cell_type": "code",
      "source": [],
      "metadata": {
        "id": "qjl45hN6k7Ig"
      },
      "execution_count": null,
      "outputs": []
    }
  ]
}